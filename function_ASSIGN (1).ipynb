{
  "nbformat": 4,
  "nbformat_minor": 0,
  "metadata": {
    "colab": {
      "provenance": []
    },
    "kernelspec": {
      "name": "python3",
      "display_name": "Python 3"
    },
    "language_info": {
      "name": "python"
    }
  },
  "cells": [
    {
      "cell_type": "code",
      "source": [
        "#Q1. Write a Python function that takes a list of numbers as input and returns the sum of all even numbers in\n",
        "#the list.\n",
        "#Ans.\n",
        "\n",
        "def sum_even_numbers(*numbers):\n",
        "  return sum (num for num in numbers if num % 2==0)"
      ],
      "metadata": {
        "id": "wJECj2V5jZyw"
      },
      "execution_count": null,
      "outputs": []
    },
    {
      "cell_type": "code",
      "source": [
        "sum_even_numbers(1,2,3,4,5,6)"
      ],
      "metadata": {
        "colab": {
          "base_uri": "https://localhost:8080/"
        },
        "id": "L7lbdLlFmeMm",
        "outputId": "7ff76992-5ae8-4623-9586-5f0c11a0974d"
      },
      "execution_count": null,
      "outputs": [
        {
          "output_type": "execute_result",
          "data": {
            "text/plain": [
              "12"
            ]
          },
          "metadata": {},
          "execution_count": 20
        }
      ]
    },
    {
      "cell_type": "code",
      "source": [
        "#Q2. Create a Python function that accepts a string and returns the reverse of that string.\n",
        "\n",
        "#Ans.\n",
        "def func(name):\n",
        "  return name [::-1]\n"
      ],
      "metadata": {
        "id": "luUuQmS-oPmG"
      },
      "execution_count": null,
      "outputs": []
    },
    {
      "cell_type": "code",
      "source": [
        "func(\"pwskills\")"
      ],
      "metadata": {
        "colab": {
          "base_uri": "https://localhost:8080/",
          "height": 36
        },
        "id": "8SfSfxHiqVyG",
        "outputId": "d7bb3e93-7bed-4937-9ede-44b0a3045d9e"
      },
      "execution_count": null,
      "outputs": [
        {
          "output_type": "execute_result",
          "data": {
            "text/plain": [
              "'sllikswp'"
            ],
            "application/vnd.google.colaboratory.intrinsic+json": {
              "type": "string"
            }
          },
          "metadata": {},
          "execution_count": 36
        }
      ]
    },
    {
      "cell_type": "code",
      "source": [
        "#Q3. Implement a Python function that takes a list of integers and returns a new list containing the squares of\n",
        "#each number.\n",
        "#Ans.\n",
        "def square_no(args):\n",
        "  sq =[]\n",
        "  for i in args:\n",
        "    sq.append(i**2)\n",
        "  return sq\n"
      ],
      "metadata": {
        "id": "G6nocUZsqd9B"
      },
      "execution_count": null,
      "outputs": []
    },
    {
      "cell_type": "code",
      "source": [
        "args =[1,2,3,4,5,6]\n",
        "square_no(args)"
      ],
      "metadata": {
        "colab": {
          "base_uri": "https://localhost:8080/"
        },
        "id": "2MOtR4lcthJU",
        "outputId": "73f3aa5d-c674-4b1f-a417-34f5ed8a401e"
      },
      "execution_count": null,
      "outputs": [
        {
          "output_type": "execute_result",
          "data": {
            "text/plain": [
              "[1, 4, 9, 16, 25, 36]"
            ]
          },
          "metadata": {},
          "execution_count": 53
        }
      ]
    },
    {
      "cell_type": "code",
      "source": [
        "#Q4. Write a Python function that checks if a given number is prime or not from 1 to 200.\n",
        "#Ans.\n",
        "\n",
        "\n",
        "# I can not understand ....\n"
      ],
      "metadata": {
        "id": "EQGr4ym2tqzl"
      },
      "execution_count": null,
      "outputs": []
    },
    {
      "cell_type": "code",
      "source": [
        "#Q5. Create an iterator class in Python that generates the Fibonacci sequence up to a specified number of\n",
        "#terms.\n",
        "#Ans.\n",
        "fib = lambda n: n if n<=1 else fib (n-1) + fib (n-2)"
      ],
      "metadata": {
        "id": "Z3FSlajD1kIV"
      },
      "execution_count": null,
      "outputs": []
    },
    {
      "cell_type": "code",
      "source": [
        "[fib (i) for i in range (10)]"
      ],
      "metadata": {
        "colab": {
          "base_uri": "https://localhost:8080/"
        },
        "id": "Qk6xr2YtNWPA",
        "outputId": "e514fb08-73da-4cf0-c7af-5f6be6796888"
      },
      "execution_count": null,
      "outputs": [
        {
          "output_type": "execute_result",
          "data": {
            "text/plain": [
              "[0, 1, 1, 2, 3, 5, 8, 13, 21, 34]"
            ]
          },
          "metadata": {},
          "execution_count": 57
        }
      ]
    },
    {
      "cell_type": "code",
      "source": [
        "#Q6. Write a generator function in Python that yields the powers of 2 up to a given exponent.\n",
        "#Ans.\n",
        "def powers_of_two(exponent):\n",
        "    for i in range(exponent + 1):\n",
        "        yield 2 ** i\n"
      ],
      "metadata": {
        "id": "tA-VGsvqNfCm"
      },
      "execution_count": null,
      "outputs": []
    },
    {
      "cell_type": "code",
      "source": [
        "a = powers_of_two(10)"
      ],
      "metadata": {
        "id": "GoerRrGJO7rZ"
      },
      "execution_count": null,
      "outputs": []
    },
    {
      "cell_type": "code",
      "source": [
        "next (a)"
      ],
      "metadata": {
        "colab": {
          "base_uri": "https://localhost:8080/"
        },
        "id": "bHYhGCmzTeCi",
        "outputId": "8b6da0d4-a0b2-4e75-ff4e-990f4b28f85c"
      },
      "execution_count": null,
      "outputs": [
        {
          "output_type": "execute_result",
          "data": {
            "text/plain": [
              "1"
            ]
          },
          "metadata": {},
          "execution_count": 66
        }
      ]
    },
    {
      "cell_type": "code",
      "source": [
        "next (a)"
      ],
      "metadata": {
        "colab": {
          "base_uri": "https://localhost:8080/"
        },
        "id": "0fpDONnITp5P",
        "outputId": "75868795-5c2d-4548-a60e-3f872b3ffbb6"
      },
      "execution_count": null,
      "outputs": [
        {
          "output_type": "execute_result",
          "data": {
            "text/plain": [
              "2"
            ]
          },
          "metadata": {},
          "execution_count": 67
        }
      ]
    },
    {
      "cell_type": "code",
      "source": [
        "next (a)"
      ],
      "metadata": {
        "colab": {
          "base_uri": "https://localhost:8080/"
        },
        "id": "n43an1kJTKiR",
        "outputId": "eb9704b1-754b-466d-a2a0-05b0c930f57f"
      },
      "execution_count": null,
      "outputs": [
        {
          "output_type": "execute_result",
          "data": {
            "text/plain": [
              "4"
            ]
          },
          "metadata": {},
          "execution_count": 68
        }
      ]
    },
    {
      "cell_type": "code",
      "source": [
        "next (a)"
      ],
      "metadata": {
        "colab": {
          "base_uri": "https://localhost:8080/"
        },
        "id": "FMLF-HKMTw7g",
        "outputId": "8f4c3761-2a0a-4604-d967-c8c6cdef7bff"
      },
      "execution_count": null,
      "outputs": [
        {
          "output_type": "execute_result",
          "data": {
            "text/plain": [
              "8"
            ]
          },
          "metadata": {},
          "execution_count": 69
        }
      ]
    },
    {
      "cell_type": "code",
      "source": [
        "next(a)"
      ],
      "metadata": {
        "colab": {
          "base_uri": "https://localhost:8080/"
        },
        "id": "EmOmDmrdTypj",
        "outputId": "7326f1a5-e9ca-41b7-b2a3-e832f165adf8"
      },
      "execution_count": null,
      "outputs": [
        {
          "output_type": "execute_result",
          "data": {
            "text/plain": [
              "16"
            ]
          },
          "metadata": {},
          "execution_count": 70
        }
      ]
    },
    {
      "cell_type": "code",
      "source": [
        "next (a)"
      ],
      "metadata": {
        "colab": {
          "base_uri": "https://localhost:8080/"
        },
        "id": "v8jwPinlT0gm",
        "outputId": "878643d6-ba6c-4c64-cdfb-f01919fc7d52"
      },
      "execution_count": null,
      "outputs": [
        {
          "output_type": "execute_result",
          "data": {
            "text/plain": [
              "32"
            ]
          },
          "metadata": {},
          "execution_count": 72
        }
      ]
    },
    {
      "cell_type": "code",
      "source": [
        "#Q7. Implement a generator function that reads a file line by line and yields each line as a string\n",
        "#Ans.\n",
        "\n",
        "\n",
        "# I can not do it..."
      ],
      "metadata": {
        "id": "s63uFn3FT4ZA"
      },
      "execution_count": null,
      "outputs": []
    },
    {
      "cell_type": "code",
      "source": [
        "#Q8. Use a lambda function in Python to sort a list of tuples based on the second element of each tuple.\n",
        "#Ans.\n",
        "x = [(2,3),(4,5),(7,8), (8,9), (3,4)]\n",
        "\n"
      ],
      "metadata": {
        "id": "FFIzN8K3Xxcx"
      },
      "execution_count": null,
      "outputs": []
    },
    {
      "cell_type": "code",
      "source": [
        "sorted (x, key = lambda x: x[1])"
      ],
      "metadata": {
        "colab": {
          "base_uri": "https://localhost:8080/"
        },
        "id": "GYzdCKD5QoNZ",
        "outputId": "c4a76e0b-be69-485d-db2e-84fa0e961460"
      },
      "execution_count": null,
      "outputs": [
        {
          "output_type": "execute_result",
          "data": {
            "text/plain": [
              "[(2, 3), (3, 4), (4, 5), (7, 8), (8, 9)]"
            ]
          },
          "metadata": {},
          "execution_count": 7
        }
      ]
    },
    {
      "cell_type": "code",
      "source": [
        "#Q9. Write a Python program that uses `map()` to convert a list of temperatures from Celsius to Fahrenheit.\n",
        "#Ans.\n",
        "def celsius(x):\n",
        "  return (x*9/5)+32"
      ],
      "metadata": {
        "id": "dDV3MqYjRXJ8"
      },
      "execution_count": null,
      "outputs": []
    },
    {
      "cell_type": "code",
      "source": [
        "lis = [35,38,40]"
      ],
      "metadata": {
        "id": "ySQbwrr2UGtf"
      },
      "execution_count": null,
      "outputs": []
    },
    {
      "cell_type": "code",
      "source": [
        "list(map (celsius, lis))"
      ],
      "metadata": {
        "colab": {
          "base_uri": "https://localhost:8080/"
        },
        "id": "m7oDmAjcTjmt",
        "outputId": "1d350e0b-f648-4fde-966d-609e40fee9ee"
      },
      "execution_count": null,
      "outputs": [
        {
          "output_type": "execute_result",
          "data": {
            "text/plain": [
              "[95.0, 100.4, 104.0]"
            ]
          },
          "metadata": {},
          "execution_count": 11
        }
      ]
    },
    {
      "cell_type": "code",
      "source": [
        "#Q10. Create a Python program that uses `filter()` to remove all the vowels from a given string.\n",
        "#Ans.\n",
        "def remove_vowels(input_string):\n",
        "    def is_vowel(char):\n",
        "        return char.lower() in 'aeiou'\n",
        "\n",
        "    return ''.join(filter(lambda x: not is_vowel(x), input_string))"
      ],
      "metadata": {
        "id": "SkZ-uLRiURZk"
      },
      "execution_count": null,
      "outputs": []
    },
    {
      "cell_type": "code",
      "source": [
        "remove_vowels(\"temperature\")"
      ],
      "metadata": {
        "colab": {
          "base_uri": "https://localhost:8080/",
          "height": 36
        },
        "id": "RCfEpQ_SahLt",
        "outputId": "f2974bed-491b-42a5-d3f7-1bbcf8de797b"
      },
      "execution_count": null,
      "outputs": [
        {
          "output_type": "execute_result",
          "data": {
            "text/plain": [
              "'tmprtr'"
            ],
            "application/vnd.google.colaboratory.intrinsic+json": {
              "type": "string"
            }
          },
          "metadata": {},
          "execution_count": 4
        }
      ]
    },
    {
      "cell_type": "code",
      "source": [
        "#Q11) Imagine an accounting routine used in a book shop. It works on a list with sublists, which look like this:\n",
        "\n",
        "#Write a Python program, which returns a list with 2-tuples. Each tuple consists of the order number and the\n",
        "# product of the price per item and the quantity. The product should be increased by 10,- € if the value of the\n",
        "# order is smaller than 100,00 €.\n",
        "\n",
        "# Write a Python program using lambda and map.\n",
        "\n",
        "#Ans.\n"
      ],
      "metadata": {
        "id": "z8rhQFdlX5ap"
      },
      "execution_count": null,
      "outputs": []
    },
    {
      "cell_type": "code",
      "source": [
        "def accounting(routine):\n",
        "    return list(map(lambda x: (x[0], x[2]*x[3] + (10 if x[2]*x[3] < 100 else 0)), routine))\n",
        "\n"
      ],
      "metadata": {
        "id": "m4LB88XjCWaV"
      },
      "execution_count": null,
      "outputs": []
    },
    {
      "cell_type": "code",
      "source": [
        "book_shop =[\n",
        "    [\"order no.34587\", \"Learning Python, Mark Lutz\", 40.95, 4],\n",
        "    [\"order no.98762\", \"Programing Python , Mark Lutz\", 56.80, 5],\n",
        "    [\"order no.77226\", \"Head First Python, Paul Barry\", 32.95, 3],\n",
        "    [\"order no.88112\", \"Einfuhrung in Python3, Bernd Klein\", 24.99, 3]\n",
        "    ]"
      ],
      "metadata": {
        "id": "gKum6tIzFstG"
      },
      "execution_count": null,
      "outputs": []
    },
    {
      "cell_type": "code",
      "source": [
        "result = accounting(book_shop)\n",
        "print (result)"
      ],
      "metadata": {
        "colab": {
          "base_uri": "https://localhost:8080/"
        },
        "id": "eV5ZebdiDhdP",
        "outputId": "18eb1adc-973b-40df-d015-9481a5f0eec8"
      },
      "execution_count": null,
      "outputs": [
        {
          "output_type": "stream",
          "name": "stdout",
          "text": [
            "[('order no.34587', 163.8), ('order no.98762', 284.0), ('order no.77226', 108.85000000000001), ('order no.88112', 84.97)]\n"
          ]
        }
      ]
    },
    {
      "cell_type": "code",
      "source": [
        "# some topics that are not explained in recorded lecture or live class\n",
        "# so I am not able to do that"
      ],
      "metadata": {
        "id": "QjpTS5XTDujX"
      },
      "execution_count": null,
      "outputs": []
    }
  ]
}